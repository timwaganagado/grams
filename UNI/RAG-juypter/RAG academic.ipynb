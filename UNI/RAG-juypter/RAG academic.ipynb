{
 "cells": [
  {
   "cell_type": "code",
   "execution_count": 1,
   "id": "973f76d4",
   "metadata": {},
   "outputs": [
    {
     "name": "stderr",
     "output_type": "stream",
     "text": [
      "/Users/burto/ICTP/.venv/lib/python3.10/site-packages/tqdm/auto.py:21: TqdmWarning: IProgress not found. Please update jupyter and ipywidgets. See https://ipywidgets.readthedocs.io/en/stable/user_install.html\n",
      "  from .autonotebook import tqdm as notebook_tqdm\n"
     ]
    }
   ],
   "source": [
    "import os\n",
    "import pdfplumber\n",
    "from sentence_transformers import SentenceTransformer\n",
    "import numpy as np\n",
    "import requests\n",
    "\n",
    "def extract_texts_from_pdfs(pdf_folder):\n",
    "    all_chunks = []\n",
    "    pdf_files = [f for f in os.listdir(pdf_folder) if f.endswith('.pdf')]\n",
    "    for pdf_file in pdf_files:\n",
    "        pdf_path = os.path.join(pdf_folder, pdf_file)\n",
    "        with pdfplumber.open(pdf_path) as pdf:\n",
    "            text = \"\"\n",
    "            for page in pdf.pages:\n",
    "                page_text = page.extract_text()\n",
    "                if page_text:\n",
    "                    text += page_text + \"\\n\"\n",
    "            # Chunk each paper\n",
    "            chunks = chunk_text(text)\n",
    "            all_chunks.extend(chunks)\n",
    "    return all_chunks\n",
    "\n",
    "def chunk_text(text, chunk_size=500):\n",
    "    words = text.split()\n",
    "    return [' '.join(words[i:i+chunk_size]) for i in range(0, len(words), chunk_size)]\n",
    "\n",
    "#Retrieval and Ollama\n",
    "def search(query, chunks, embeddings, model, top_k=3):\n",
    "    query_emb = model.encode([query])[0]\n",
    "    scores = np.dot(embeddings, query_emb)\n",
    "    top_indices = np.argsort(scores)[-top_k:][::-1]\n",
    "    return [chunks[i] for i in top_indices]\n",
    "\n",
    "def ask_ollama(context, question, model=\"llama3\"):\n",
    "    prompt = f\"Context:\\n{context}\\n\\nQuestion: {question}\\nAnswer:\"\n",
    "    response = requests.post(\n",
    "        \"http://localhost:11434/api/generate\",\n",
    "        json={\n",
    "            \"model\": model,\n",
    "            \"prompt\": prompt,\n",
    "            \"stream\": False\n",
    "        }\n",
    "    )\n",
    "    try:\n",
    "        data = response.json()\n",
    "        return data.get(\"response\", data)\n",
    "    except Exception as e:\n",
    "        print(\"Error parsing Ollama response:\", e)\n",
    "        print(\"Raw response text:\", response.text)\n",
    "        return None\n",
    "\n",
    "def extract_text_from_pdf(pdf_path):\n",
    "    with pdfplumber.open(pdf_path) as pdf:\n",
    "        text = \"\"\n",
    "        for page in pdf.pages:\n",
    "            page_text = page.extract_text()\n",
    "            if page_text:\n",
    "                text += page_text + \"\\n\"\n",
    "    return text"
   ]
  },
  {
   "cell_type": "code",
   "execution_count": 2,
   "id": "1a16b649",
   "metadata": {},
   "outputs": [
    {
     "name": "stdout",
     "output_type": "stream",
     "text": [
      "Total chunks from all papers: 174\n"
     ]
    }
   ],
   "source": [
    "#Embed all chunks\n",
    "relative_path = os.getcwd()\n",
    "filename = \"/RAG-academic\"\n",
    "absolute_path = relative_path + filename\n",
    "pdf_folder = absolute_path  # Change to your folder\n",
    "chunks = extract_texts_from_pdfs(pdf_folder)\n",
    "print(f\"Total chunks from all papers: {len(chunks)}\")\n",
    "\n",
    "model = SentenceTransformer('all-MiniLM-L6-v2')\n",
    "embeddings = model.encode(chunks)"
   ]
  },
  {
   "cell_type": "code",
   "execution_count": 3,
   "id": "fdc9e2b6",
   "metadata": {},
   "outputs": [
    {
     "name": "stdout",
     "output_type": "stream",
     "text": [
      "\n",
      "LLM Answer:\n",
      " According to the context, a strong paper is characterized by the following features:\n",
      "\n",
      "1. **Clear thesis statement**: A well-defined and arguable thesis that sets the tone for the entire paper.\n",
      "2. **Well-organized structure**: A logical flow of ideas, with clear transitions between paragraphs and sections.\n",
      "3. **Strong arguments and evidence**: Well-supported claims backed by credible sources, examples, and expert opinions.\n",
      "4. **Good notes and outlining**: Thorough note-taking and outlining help to ensure that the paper is well-planned and coherent.\n",
      "5. **Effective writing style**: Clear, concise, and engaging prose that holds the reader's attention.\n",
      "6. **Revised and edited content**: A paper that has been thoroughly revised and edited to eliminate errors, clarify ideas, and improve overall quality.\n",
      "\n",
      "By following these guidelines, students can produce a strong paper that effectively communicates their ideas and arguments.\n"
     ]
    }
   ],
   "source": [
    "#Example query\n",
    "query = \"Summarize what makes a strong paper.\"\n",
    "results = search(query, chunks, embeddings, model)\n",
    "context = \"\\n\".join(results)\n",
    "answer = ask_ollama(context, query)\n",
    "print(\"\\nLLM Answer:\\n\", answer)"
   ]
  },
  {
   "cell_type": "code",
   "execution_count": 9,
   "id": "ffcdd780",
   "metadata": {},
   "outputs": [
    {
     "name": "stdout",
     "output_type": "stream",
     "text": [
      "Full context length: System: You are an expert writing coach. Always give detailed, constructive feedback and suggestions for improvement.\n",
      "\n",
      "the students’ responses by the present author. 28\n",
      "Therefore, it can be concluded that... n The implication of this is... (Adapted from Sheehy, 2016, p. 11) 60 ACADEMIC WRITING HANDBOOK FOR LEARNERS IN THE FURTHER EDUCATION AND TRAINING (FET) SECTOR Writing recommendations You may or may not be required to include recommendations and the assessment brief will indicate if these are required. Having written your conclusion(s) it should be relatively straightforward to identify some recommendations. These can include suggestions for improvements in relation to the key points in your argument and/or suggestions for future research or development. Recommendations should be realistic and brief. Here are some phrases that may be useful in writing the recommendations of your written assessment work: n The results of this study highlight the need for further investigation in the area of... n A comparative analysis on the experiences of (…) may yield interesting results… n An improvement to (…) is recommended… n Increased monitoring of the implementation of (…) is recommended… n Additional training in the areas highlighted in the research is recommended…. n In order to meet (legislative/governing/regulatory, etc.) requirements, (…) it is suggested… n The findings of this study highlight a number of potential courses of action... n A targeted/focussed intervention may be useful/appropriate in order to address… n An approach worth considering might be to… n Clearly, there is an identified need in relation to… n It would be interesting to… (Adapted from Sheehy, 2016, p. 12) 61 ACADEMIC WRITING HANDBOOK FOR LEARNERS IN THE FURTHER EDUCATION AND TRAINING (FET) SECTOR STEP NOW GET WRITING 2 THE DRAFT How to think critically when writing Critical thinking skills are sometimes described as “higher order” skills – that is, skills requiring ways of thinking that are deeper and more complex than the kind of everyday thinking that we use to, say, cook a meal or decide what clothes to wear. A framework that describes different levels of thinking can be helpful to start to understand the concept of critical thinking. Blooms Taxonomy of Educational Objectives (1956) is one of the best -known of these (see Figure 9). ‘Creating’, ‘evaluating’ and ‘analysing’ are categorised here as being higher-order skills. Bloom’s Taxonomy Produce new or original work Design, assemble, construct, conjecture, develop, formulate, author, investigate Justify a stand or decision Appraise, argue, defend, judge, select, support, value, critique, weigh Draw connections among ideas Differentiate, organise, relate, compare, contrast, distinguish, examine, experiment, question, test Use information in new situations Execute, implement, solve, use, demonstrate, interpret, operate, schedule, sketch Explain ideas or concepts Classify, describe, discuss, explain, identify, locate, recognise, report, select, translate Recall facts and basic concepts Define, duplicate, list, memorise, repeat, state Figure 9: Bloom’s taxonomy (Sjolander, 2019) 62 ACADEMIC WRITING HANDBOOK FOR LEARNERS IN THE FURTHER EDUCATION AND TRAINING (FET) SECTOR Here is a selection of phrases that may be helpful in demonstrating your ability to write critically in your academic work: Previous studies in this area have not dealt with… These results were based upon data from over 30 years ago and\n",
      "core of your discussion is a relatively detailed answer to your RQ. While all of your conclusions must rest on your literature-based analysis, the discussion is where it is most appropriate to share your own thoughts. Combining your findings and drawing meaningful conclusions, naturally means evaluating the importance of findings relative to others. As long as they are written in an objective manner, here is where you lay out which insights you deem most relevant. Another important aspect of a good discussion chapter is the evaluation of the limitations of your analysis. ReflectonwhichrelevantaspectsoftheRQyouranalysisisnotabletoanswerandhowtheseaspectsmight be address in future research. Note also that while you should add new thoughts and conclusions to your analysis in this chapter, the factual information should have been discussed in the previous chapters. As for the conclusion chapter, this chapter should not add new evidence. 8.7 Conclusion Thefinalchapterofyourthesisiswhereallaspectsofyourthesiscometogetherintheirmostreducedform. Whileitwillseemlikeeverythinghasbeensaidalready,theconclusionisoneofthemostimportantchapters of your thesis. Luckily, the conclusion comes with a very well-established structure: Introduction Your conclusion chapter starts with a small reintroduction of your topic. It is not uncommon to have one or two sentences copy and pasted from the introduction chapter. You should state your research topic and your subject of analysis. Research question State your RQ again. In the same words as you did in the introduction! Research design Quickly reintroduce your study area (country, years, etc.) and your research design (e.g., the model you use or the aspects you consider). Mini summary of findings Give a brief summary of your most important findings. 19 Answer your research question Thisisthemostimportantpart. TheanswertoyourRQisyourinterpretationofthefindingsandconclusions. It should be relatively brief and very precise. The phrasing of your answer will show the examiner whether or not you have understood the scope and limitations of your findings. It is a balancing act to phrase a strong, relevant and catchy answer to your RQ while being clear about the limited validity of your findings. To give you an example: A bad phrasing: “Based on the previous analysis, it has become clear that manufacturing and finance are engines of growth in India. (...) The finance sector might be good too, but it is much worse that the communication and business sectors are definitely not.” A good phrasing: “The previous analysis suggests that under limited conditions manufacturing and finance are engines of growth in India. (...) Though I find the finance sector likely to be an engine of growth, it seems more worrying that the communication and business sectors are not.” The answer to your RQ typically includes coming back to the policy relevance of the problem considered and highlight the policy conclusions to be drawn from your findings / answer. This could be, for example, a policy recommendation, a word of caution for researchers or a prediction for the future. Limitations and future research Last but not least, you will need to point out again the most important limitations of your thesis and which possible improvement should potentially be made in the future. Additionally, you may provide the reader with potential future RQs and ideas\n",
      "\n",
      "Essay:\n",
      "The Potential of Life on Mars\n",
      "For centuries, Mars has captured human imagination as the most promising candidate for\n",
      "life beyond Earth. Its proximity, similarities in day length, and evidence of water make it a\n",
      "focal point for astrobiology. While no definitive proof of life has been discovered, growing\n",
      "scientific evidence suggests that Mars may have once supported microbial organisms—and\n",
      "perhaps still does in hidden niches.\n",
      "One of the strongest arguments for Martian life is the planet’s history of water. Satellite\n",
      "imagery and rover missions have revealed dried-up riverbeds, minerals that form in liquid\n",
      "water, and polar ice caps. Recent findings of seasonal methane spikes in the Martian\n",
      "atmosphere are particularly intriguing, as methane on Earth is often linked to biological\n",
      "activity. Although geological processes could explain these emissions, they leave open the\n",
      "possibility of subsurface microbial ecosystems.\n",
      "Mars also shares important conditions with Earth that could support life, at least in a primitive\n",
      "form. Its day, or “sol,” is just over 24 hours, creating a familiar rhythm. While the atmosphere\n",
      "is thin and composed mainly of carbon dioxide, some extremophiles on Earth thrive in similar\n",
      "hostile conditions. Microorganisms that survive intense radiation, freezing temperatures, or\n",
      "high acidity suggest that life is remarkably adaptable and could potentially exist beneath\n",
      "Mars’s surface, shielded from harmful solar radiation.\n",
      "However, significant challenges remain. The Martian surface is exposed to high levels of\n",
      "cosmic radiation, and the thin atmosphere provides little protection or warmth. Water in liquid\n",
      "form is scarce, as low atmospheric pressure causes it to quickly evaporate or freeze.\n",
      "Furthermore, perchlorates—chemicals found in Martian soil—may be toxic to most known\n",
      "organisms. These harsh realities suggest that if life does exist on Mars, it would likely be\n",
      "microbial and confined to underground aquifers or protected rock formations.\n",
      "The search for life on Mars carries profound implications. Finding even the simplest\n",
      "microbes would confirm that life is not unique to Earth, reshaping humanity’s understanding\n",
      "of biology and the universe. It would raise new questions: Did life on Earth and Mars share a\n",
      "common origin through meteorite exchange, or did it arise independently? Could Mars serve\n",
      "as a model for understanding how life begins on other planets?\n",
      "Current and future missions, such as NASA’s Perseverance rover and the European Space\n",
      "Agency’s ExoMars mission, aim to answer these questions by searching for biosignatures in\n",
      "soil and rock samples. The potential discovery of life—past or present—on Mars would be\n",
      "one of the most significant scientific breakthroughs in human history.\n",
      "Conclusion\n",
      "The potential of life on Mars remains uncertain but compelling. Evidence of ancient water,\n",
      "seasonal methane emissions, and Earth’s own resilient extremophiles make the possibility\n",
      "plausible. While the Martian environment poses serious challenges to life, ongoing\n",
      "exploration continues to push the boundaries of what we know. Whether Mars harbors\n",
      "remnants of past organisms or even living microbes today, the pursuit of this question carries\n",
      "transformative consequences for science, philosophy, and humanity’s place in the cosmos.\n",
      " characters\n"
     ]
    }
   ],
   "source": [
    "# Example: Use your own PDF as the prompt\n",
    "filename = \"/test-essay.pdf\"\n",
    "user_pdf = relative_path + filename\n",
    "user_text = extract_text_from_pdf(user_pdf)\n",
    "\n",
    "query = \"Give detailed feedback and suggestions for improvement for the following essay.\"\n",
    "results = search(query, chunks, embeddings, model)\n",
    "context = \"\\n\".join(results)\n",
    "\n",
    "system_instruction = (\n",
    "    \"System: You are an expert writing coach. \"\n",
    "    \"Always give detailed, constructive feedback and suggestions for improvement.\"\n",
    ")\n",
    "\n",
    "# Combine context and your PDF text\n",
    "full_context = f\"{system_instruction}\\n\\n{context}\\n\\nEssay:\\n{user_text}\"\n",
    "print(f\"Full context length: {full_context} characters\")"
   ]
  },
  {
   "cell_type": "code",
   "execution_count": 8,
   "id": "b6cc414d",
   "metadata": {},
   "outputs": [
    {
     "name": "stdout",
     "output_type": "stream",
     "text": [
      "\n",
      "LLM Feedback:\n",
      " **Feedback and Suggestions**\n",
      "\n",
      "The Potential of Life on Mars is an engaging and well-structured essay that effectively explores the possibility of life existing on Mars. The author presents a clear argument, supported by relevant scientific evidence, and demonstrates a good understanding of the subject matter.\n",
      "\n",
      "**Strengths:**\n",
      "\n",
      "1. **Clear structure**: The essay follows a logical structure, with each paragraph building upon the previous one to create a cohesive narrative.\n",
      "2. **Effective use of evidence**: The author skillfully incorporates scientific findings, such as seasonal methane emissions and extremophiles on Earth, to support their argument.\n",
      "3. **Good transitions**: The essay flows smoothly between paragraphs, thanks to effective transition phrases.\n",
      "\n",
      "**Suggestions for Improvement:**\n",
      "\n",
      "1. **Conclude more strongly**: While the conclusion is clear, it could be strengthened by summarizing the main points and reiterating the significance of finding life on Mars.\n",
      "2. **Use more nuanced language**: Some sentences are a bit straightforward; consider using more descriptive language to enhance the reader's engagement.\n",
      "3. **Consider adding more depth**: While the essay provides a solid overview, it might benefit from exploring specific aspects in greater detail, such as the implications of finding life on Mars or the challenges faced by potential Martian organisms.\n",
      "\n",
      "**Specific Feedback:**\n",
      "\n",
      "1. The introduction could be stronger; instead of simply stating that Mars has captured human imagination, consider highlighting the significance of discovering life beyond Earth.\n",
      "2. In the paragraph discussing the Martian environment, you could expand on how these conditions might affect the likelihood of finding life.\n",
      "3. In the conclusion, rephrase the sentence \"Whether Mars harbors remnants of past organisms or even living microbes today...\" to make it more concise and impactful.\n",
      "\n",
      "**Additional Tips:**\n",
      "\n",
      "1. **Use academic tone**: While the essay is well-written, some sentences could be rephrased in a more formal, academic tone.\n",
      "2. **Cite sources**: To strengthen your arguments, consider incorporating specific citations from scientific papers or studies.\n",
      "3. **Edit for clarity and concision**: Review your essay to ensure that each sentence contributes to the overall narrative and avoid unnecessary words or phrases.\n",
      "\n",
      "By addressing these suggestions and refining your writing style, you can further enhance The Potential of Life on Mars and produce a compelling essay that effectively argues for the possibility of life existing on Mars.\n"
     ]
    }
   ],
   "source": [
    "\n",
    "answer = ask_ollama(full_context, query)\n",
    "print(\"\\nLLM Feedback:\\n\", answer)"
   ]
  }
 ],
 "metadata": {
  "kernelspec": {
   "display_name": ".venv",
   "language": "python",
   "name": "python3"
  },
  "language_info": {
   "codemirror_mode": {
    "name": "ipython",
    "version": 3
   },
   "file_extension": ".py",
   "mimetype": "text/x-python",
   "name": "python",
   "nbconvert_exporter": "python",
   "pygments_lexer": "ipython3",
   "version": "3.10.6"
  }
 },
 "nbformat": 4,
 "nbformat_minor": 5
}
